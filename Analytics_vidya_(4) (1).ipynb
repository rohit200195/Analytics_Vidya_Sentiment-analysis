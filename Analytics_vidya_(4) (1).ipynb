{
  "nbformat": 4,
  "nbformat_minor": 0,
  "metadata": {
    "colab": {
      "name": "Analytics_vidya (4).ipynb",
      "provenance": [],
      "collapsed_sections": []
    },
    "kernelspec": {
      "name": "python3",
      "display_name": "Python 3"
    }
  },
  "cells": [
    {
      "cell_type": "code",
      "metadata": {
        "id": "PxAZutU-Ks-0",
        "colab_type": "code",
        "outputId": "99bc606f-d212-48bc-bc15-1f555d99f314",
        "colab": {
          "base_uri": "https://localhost:8080/",
          "height": 119
        }
      },
      "source": [
        "import pandas as pd\n",
        "import numpy as np\n",
        "from sklearn.feature_extraction.text import CountVectorizer\n",
        "from sklearn.feature_extraction.text import TfidfVectorizer\n",
        "\n",
        "pd.options.display.max_rows = 999\n",
        "pd.set_option('max_colwidth', 100)\n",
        "\n",
        "import nltk\n",
        "nltk.download('punkt')\n",
        "nltk.download('stopwords')\n",
        "nltk.download('wordnet')\n",
        "\n",
        "from sklearn.model_selection import cross_val_score\n",
        "from sklearn.linear_model import LogisticRegression\n",
        "from sklearn.model_selection import GridSearchCV\n",
        "\n",
        "\n",
        "#Data Preprocessing and Feature Engineering\n",
        "from textblob import TextBlob\n",
        "import re\n",
        "from nltk.corpus import stopwords\n",
        "from nltk.stem.wordnet import WordNetLemmatizer\n",
        "from sklearn.feature_extraction.text import CountVectorizer, TfidfTransformer\n",
        "\n",
        "#Model Selection and Validation\n",
        "from sklearn.naive_bayes import MultinomialNB\n",
        "from sklearn.model_selection import train_test_split\n",
        "from sklearn.pipeline import Pipeline\n",
        "from sklearn.metrics import confusion_matrix, classification_report,accuracy_score\n"
      ],
      "execution_count": 89,
      "outputs": [
        {
          "output_type": "stream",
          "text": [
            "[nltk_data] Downloading package punkt to /root/nltk_data...\n",
            "[nltk_data]   Package punkt is already up-to-date!\n",
            "[nltk_data] Downloading package stopwords to /root/nltk_data...\n",
            "[nltk_data]   Package stopwords is already up-to-date!\n",
            "[nltk_data] Downloading package wordnet to /root/nltk_data...\n",
            "[nltk_data]   Package wordnet is already up-to-date!\n"
          ],
          "name": "stdout"
        }
      ]
    },
    {
      "cell_type": "code",
      "metadata": {
        "id": "oC_m7fhgLTuo",
        "colab_type": "code",
        "outputId": "101964e6-523c-40da-d87e-b89f1f1615d1",
        "colab": {
          "base_uri": "https://localhost:8080/",
          "height": 204
        }
      },
      "source": [
        "data = pd.read_csv('/content/train_2kmZucJ.csv')\n",
        "\n",
        "test = pd.read_csv('/content/test_oJQbWVk.csv')\n",
        "test.head()\n",
        "test['label'] = \"1\"\n",
        "test_data1 = test.iloc[:,1:3]\n",
        "test_data1.head()"
      ],
      "execution_count": 90,
      "outputs": [
        {
          "output_type": "execute_result",
          "data": {
            "text/html": [
              "<div>\n",
              "<style scoped>\n",
              "    .dataframe tbody tr th:only-of-type {\n",
              "        vertical-align: middle;\n",
              "    }\n",
              "\n",
              "    .dataframe tbody tr th {\n",
              "        vertical-align: top;\n",
              "    }\n",
              "\n",
              "    .dataframe thead th {\n",
              "        text-align: right;\n",
              "    }\n",
              "</style>\n",
              "<table border=\"1\" class=\"dataframe\">\n",
              "  <thead>\n",
              "    <tr style=\"text-align: right;\">\n",
              "      <th></th>\n",
              "      <th>tweet</th>\n",
              "      <th>label</th>\n",
              "    </tr>\n",
              "  </thead>\n",
              "  <tbody>\n",
              "    <tr>\n",
              "      <th>0</th>\n",
              "      <td>I hate the new #iphone upgrade. Won't let me download apps. #ugh #apple sucks</td>\n",
              "      <td>1</td>\n",
              "    </tr>\n",
              "    <tr>\n",
              "      <th>1</th>\n",
              "      <td>currently shitting my fucking pants. #apple #iMac #cashmoney #raddest #swagswagswag http://insta...</td>\n",
              "      <td>1</td>\n",
              "    </tr>\n",
              "    <tr>\n",
              "      <th>2</th>\n",
              "      <td>I'd like to puts some CD-ROMS on my iPad, is that possible?' — Yes, but wouldn't that block the ...</td>\n",
              "      <td>1</td>\n",
              "    </tr>\n",
              "    <tr>\n",
              "      <th>3</th>\n",
              "      <td>My ipod is officially dead. I lost all my pictures and videos from the 1D and 5sos concert,and f...</td>\n",
              "      <td>1</td>\n",
              "    </tr>\n",
              "    <tr>\n",
              "      <th>4</th>\n",
              "      <td>Been fighting iTunes all night! I only want the music I $&amp;@*# paid for</td>\n",
              "      <td>1</td>\n",
              "    </tr>\n",
              "  </tbody>\n",
              "</table>\n",
              "</div>"
            ],
            "text/plain": [
              "                                                                                                 tweet label\n",
              "0                        I hate the new #iphone upgrade. Won't let me download apps. #ugh #apple sucks     1\n",
              "1  currently shitting my fucking pants. #apple #iMac #cashmoney #raddest #swagswagswag http://insta...     1\n",
              "2  I'd like to puts some CD-ROMS on my iPad, is that possible?' — Yes, but wouldn't that block the ...     1\n",
              "3  My ipod is officially dead. I lost all my pictures and videos from the 1D and 5sos concert,and f...     1\n",
              "4                               Been fighting iTunes all night! I only want the music I $&@*# paid for     1"
            ]
          },
          "metadata": {
            "tags": []
          },
          "execution_count": 90
        }
      ]
    },
    {
      "cell_type": "code",
      "metadata": {
        "id": "r_lge8xLLbNe",
        "colab_type": "code",
        "colab": {}
      },
      "source": [
        "def preprocess_text(sen):\n",
        "    # Removing html tags\n",
        "    sentence = remove_tags(sen)\n",
        "\n",
        "    # Remove punctuations and numbers\n",
        "    sentence = re.sub('[^a-zA-Z]', ' ', sentence)\n",
        "\n",
        "    # Single character removal\n",
        "    sentence = re.sub(r\"\\s+[a-zA-Z]\\s+\", ' ', sentence)\n",
        "\n",
        "    # Removing multiple spaces\n",
        "    sentence = re.sub(r'\\s+', ' ', sentence)\n",
        "\n",
        "    return sentence\n",
        "\n",
        "TAG_RE = re.compile(r'<[^>]+>')\n",
        "\n",
        "def remove_tags(text):\n",
        "    return TAG_RE.sub('', text)\n",
        "\n",
        "\n",
        "reviews = []\n",
        "sentences = list(data['tweet'])\n",
        "for sen in sentences:\n",
        "    reviews.append(preprocess_text(sen))\n",
        "\n",
        "\n",
        "clean_data = pd.DataFrame(reviews,columns=['tweet'])\n",
        "clean_data['label'] = data.label\n"
      ],
      "execution_count": 0,
      "outputs": []
    },
    {
      "cell_type": "code",
      "metadata": {
        "id": "1_FhK07xKa-M",
        "colab_type": "code",
        "outputId": "1c240bdc-402e-4aa5-cbe0-35aa79c9ff09",
        "colab": {
          "base_uri": "https://localhost:8080/",
          "height": 119
        }
      },
      "source": [
        "!pip install bert-for-tf2\n",
        "!pip install sentencepiece\n",
        "try:\n",
        "    %tensorflow_version 2.x\n",
        "except Exception:\n",
        "    pass\n",
        "import tensorflow as tf\n",
        "\n",
        "import tensorflow_hub as hub\n",
        "\n",
        "from tensorflow.keras import layers\n",
        "import bert"
      ],
      "execution_count": 92,
      "outputs": [
        {
          "output_type": "stream",
          "text": [
            "Requirement already satisfied: bert-for-tf2 in /usr/local/lib/python3.6/dist-packages (0.14.4)\n",
            "Requirement already satisfied: py-params>=0.9.6 in /usr/local/lib/python3.6/dist-packages (from bert-for-tf2) (0.9.7)\n",
            "Requirement already satisfied: params-flow>=0.8.0 in /usr/local/lib/python3.6/dist-packages (from bert-for-tf2) (0.8.2)\n",
            "Requirement already satisfied: numpy in /usr/local/lib/python3.6/dist-packages (from params-flow>=0.8.0->bert-for-tf2) (1.18.3)\n",
            "Requirement already satisfied: tqdm in /usr/local/lib/python3.6/dist-packages (from params-flow>=0.8.0->bert-for-tf2) (4.38.0)\n",
            "Requirement already satisfied: sentencepiece in /usr/local/lib/python3.6/dist-packages (0.1.86)\n"
          ],
          "name": "stdout"
        }
      ]
    },
    {
      "cell_type": "code",
      "metadata": {
        "id": "Z2nSafzsfENN",
        "colab_type": "code",
        "outputId": "6eecc2a5-a1d0-474d-aafc-8a262408b7c2",
        "colab": {
          "base_uri": "https://localhost:8080/",
          "height": 51
        }
      },
      "source": [
        "y = clean_data['label']\n",
        "print(reviews[0])\n",
        "y[0]"
      ],
      "execution_count": 93,
      "outputs": [
        {
          "output_type": "stream",
          "text": [
            " fingerprint Pregnancy Test https goo gl MfQV android apps beautiful cute health igers iphoneonly iphonesia iphone\n"
          ],
          "name": "stdout"
        },
        {
          "output_type": "execute_result",
          "data": {
            "text/plain": [
              "0"
            ]
          },
          "metadata": {
            "tags": []
          },
          "execution_count": 93
        }
      ]
    },
    {
      "cell_type": "code",
      "metadata": {
        "id": "MZNe6SgWfShP",
        "colab_type": "code",
        "colab": {}
      },
      "source": [
        "BertTokenizer = bert.bert_tokenization.FullTokenizer\n",
        "bert_layer = hub.KerasLayer(\"https://tfhub.dev/tensorflow/bert_en_uncased_L-12_H-768_A-12/1\",\n",
        "                            trainable=False)\n",
        "vocabulary_file = bert_layer.resolved_object.vocab_file.asset_path.numpy()\n",
        "to_lower_case = bert_layer.resolved_object.do_lower_case.numpy()\n",
        "tokenizer = BertTokenizer(vocabulary_file, to_lower_case)"
      ],
      "execution_count": 0,
      "outputs": []
    },
    {
      "cell_type": "code",
      "metadata": {
        "id": "5ygMTfnMfdxP",
        "colab_type": "code",
        "colab": {}
      },
      "source": [
        "def tokenize_reviews(text_reviews):\n",
        "    return tokenizer.convert_tokens_to_ids(tokenizer.tokenize(text_reviews))"
      ],
      "execution_count": 0,
      "outputs": []
    },
    {
      "cell_type": "code",
      "metadata": {
        "id": "-OOOQ6rSf2cA",
        "colab_type": "code",
        "colab": {}
      },
      "source": [
        "tokenized_reviews = [tokenize_reviews(review) for review in reviews]"
      ],
      "execution_count": 0,
      "outputs": []
    },
    {
      "cell_type": "code",
      "metadata": {
        "id": "kyr-wLS9gnII",
        "colab_type": "code",
        "outputId": "eaa0b4b6-ee82-4710-cb74-044961332d63",
        "colab": {
          "base_uri": "https://localhost:8080/",
          "height": 493
        }
      },
      "source": [
        "tokenized_reviews[1]"
      ],
      "execution_count": 97,
      "outputs": [
        {
          "output_type": "execute_result",
          "data": {
            "text/plain": [
              "[2633,\n",
              " 9099,\n",
              " 28689,\n",
              " 3372,\n",
              " 13773,\n",
              " 2553,\n",
              " 4283,\n",
              " 2000,\n",
              " 2026,\n",
              " 4470,\n",
              " 8038,\n",
              " 2100,\n",
              " 8412,\n",
              " 26726,\n",
              " 11610,\n",
              " 8412,\n",
              " 10288,\n",
              " 4842,\n",
              " 7951,\n",
              " 8299,\n",
              " 16021,\n",
              " 23091,\n",
              " 4012,\n",
              " 1061,\n",
              " 18150,\n",
              " 29175,\n",
              " 1046,\n",
              " 2213]"
            ]
          },
          "metadata": {
            "tags": []
          },
          "execution_count": 97
        }
      ]
    },
    {
      "cell_type": "code",
      "metadata": {
        "id": "kTmHEZOGg-i3",
        "colab_type": "code",
        "outputId": "c24cbb43-5140-4896-ac15-a92ac60c076e",
        "colab": {
          "base_uri": "https://localhost:8080/",
          "height": 1000
        }
      },
      "source": [
        "reviews_with_len = [[review, y[i], len(review)]\n",
        "                 for i, review in enumerate(tokenized_reviews)]\n",
        "\n",
        "sorted_reviews_labels = [(review_lab[0], review_lab[1]) for review_lab in reviews_with_len]\n",
        "\n",
        "\n",
        "sorted_reviews_labels[1:6]"
      ],
      "execution_count": 98,
      "outputs": [
        {
          "output_type": "execute_result",
          "data": {
            "text/plain": [
              "[([2633,\n",
              "   9099,\n",
              "   28689,\n",
              "   3372,\n",
              "   13773,\n",
              "   2553,\n",
              "   4283,\n",
              "   2000,\n",
              "   2026,\n",
              "   4470,\n",
              "   8038,\n",
              "   2100,\n",
              "   8412,\n",
              "   26726,\n",
              "   11610,\n",
              "   8412,\n",
              "   10288,\n",
              "   4842,\n",
              "   7951,\n",
              "   8299,\n",
              "   16021,\n",
              "   23091,\n",
              "   4012,\n",
              "   1061,\n",
              "   18150,\n",
              "   29175,\n",
              "   1046,\n",
              "   2213],\n",
              "  0),\n",
              " ([2057,\n",
              "   2293,\n",
              "   2023,\n",
              "   2052,\n",
              "   2017,\n",
              "   2175,\n",
              "   2831,\n",
              "   2191,\n",
              "   4168,\n",
              "   24610,\n",
              "   2229,\n",
              "   4895,\n",
              "   24759,\n",
              "   15916,\n",
              "   9483,\n",
              "   18059,\n",
              "   26381,\n",
              "   15536,\n",
              "   8873,\n",
              "   7532,\n",
              "   8299,\n",
              "   1042,\n",
              "   2497,\n",
              "   2033,\n",
              "   21849,\n",
              "   15042,\n",
              "   2226],\n",
              "  0),\n",
              " ([1045,\n",
              "   17502,\n",
              "   2113,\n",
              "   1049,\n",
              "   2577,\n",
              "   2001,\n",
              "   2081,\n",
              "   2008,\n",
              "   2126,\n",
              "   18059,\n",
              "   10140,\n",
              "   4913,\n",
              "   3372,\n",
              "   2854,\n",
              "   2188,\n",
              "   8299,\n",
              "   16021,\n",
              "   15900,\n",
              "   2099,\n",
              "   2572,\n",
              "   5622,\n",
              "   1057,\n",
              "   22578],\n",
              "  0),\n",
              " ([2054,\n",
              "   6429,\n",
              "   2326,\n",
              "   6207,\n",
              "   2180,\n",
              "   2130,\n",
              "   2831,\n",
              "   2000,\n",
              "   2033,\n",
              "   2055,\n",
              "   3160,\n",
              "   2031,\n",
              "   4983,\n",
              "   3477,\n",
              "   2068,\n",
              "   2005,\n",
              "   2037,\n",
              "   5236,\n",
              "   2490],\n",
              "  1),\n",
              " ([18059, 4007, 10651, 21746, 2039, 2026, 3042, 2502, 2051, 5236, 18059, 2015],\n",
              "  1)]"
            ]
          },
          "metadata": {
            "tags": []
          },
          "execution_count": 98
        }
      ]
    },
    {
      "cell_type": "code",
      "metadata": {
        "id": "Am8IsY24hiH0",
        "colab_type": "code",
        "colab": {}
      },
      "source": [
        "processed_dataset = tf.data.Dataset.from_generator(lambda: sorted_reviews_labels, output_types=(tf.int32, tf.int32))"
      ],
      "execution_count": 0,
      "outputs": []
    },
    {
      "cell_type": "code",
      "metadata": {
        "id": "UDOi0EgVhle6",
        "colab_type": "code",
        "colab": {}
      },
      "source": [
        "BATCH_SIZE = 32\n",
        "batched_dataset = processed_dataset.padded_batch(BATCH_SIZE, padded_shapes=((None, ), ()))"
      ],
      "execution_count": 0,
      "outputs": []
    },
    {
      "cell_type": "code",
      "metadata": {
        "id": "jLQ24EwpiRLW",
        "colab_type": "code",
        "outputId": "34e88485-5ff8-4d6c-fdcf-bf1aeb122eb4",
        "colab": {
          "base_uri": "https://localhost:8080/",
          "height": 204
        }
      },
      "source": [
        "next(iter(batched_dataset))"
      ],
      "execution_count": 101,
      "outputs": [
        {
          "output_type": "execute_result",
          "data": {
            "text/plain": [
              "(<tf.Tensor: shape=(32, 53), dtype=int32, numpy=\n",
              " array([[ 4344, 16550, 10032, ...,     0,     0,     0],\n",
              "        [ 2633,  9099, 28689, ...,     0,     0,     0],\n",
              "        [ 2057,  2293,  2023, ...,     0,     0,     0],\n",
              "        ...,\n",
              "        [ 2442,  3422,  7858, ...,     0,     0,     0],\n",
              "        [ 4067,  2017, 19102, ...,     0,     0,     0],\n",
              "        [10381,  8854,  9790, ..., 13958,  8197,  1039]], dtype=int32)>,\n",
              " <tf.Tensor: shape=(32,), dtype=int32, numpy=\n",
              " array([0, 0, 0, 0, 1, 1, 0, 0, 0, 0, 1, 1, 1, 0, 1, 0, 0, 0, 1, 1, 0, 0,\n",
              "        1, 1, 0, 0, 1, 1, 0, 0, 0, 0], dtype=int32)>)"
            ]
          },
          "metadata": {
            "tags": []
          },
          "execution_count": 101
        }
      ]
    },
    {
      "cell_type": "code",
      "metadata": {
        "id": "RBhqdIL1iTEX",
        "colab_type": "code",
        "outputId": "7f7982ab-a220-4e11-adb3-42520d2f922a",
        "colab": {
          "base_uri": "https://localhost:8080/",
          "height": 34
        }
      },
      "source": [
        "import math\n",
        "TOTAL_BATCHES = math.ceil(len(sorted_reviews_labels) / BATCH_SIZE)\n",
        "print(TOTAL_BATCHES)"
      ],
      "execution_count": 102,
      "outputs": [
        {
          "output_type": "stream",
          "text": [
            "248\n"
          ],
          "name": "stdout"
        }
      ]
    },
    {
      "cell_type": "code",
      "metadata": {
        "id": "2j-NJhjTimbY",
        "colab_type": "code",
        "outputId": "025021d9-e84a-494c-d5a0-0733c0704b37",
        "colab": {
          "base_uri": "https://localhost:8080/",
          "height": 34
        }
      },
      "source": [
        "TOTAL_BATCHES = math.ceil(len(sorted_reviews_labels) / BATCH_SIZE)\n",
        "TEST_BATCHES = TOTAL_BATCHES // 10\n",
        "print(TEST_BATCHES)\n",
        "batched_dataset.shuffle(TOTAL_BATCHES)\n",
        "test_data = batched_dataset.take(TEST_BATCHES)\n",
        "train_data = batched_dataset.skip(TEST_BATCHES)\n"
      ],
      "execution_count": 103,
      "outputs": [
        {
          "output_type": "stream",
          "text": [
            "24\n"
          ],
          "name": "stdout"
        }
      ]
    },
    {
      "cell_type": "code",
      "metadata": {
        "id": "HiCYSPW5jDW6",
        "colab_type": "code",
        "colab": {}
      },
      "source": [
        "class TEXT_MODEL(tf.keras.Model):\n",
        "    \n",
        "    def __init__(self,\n",
        "                 vocabulary_size,\n",
        "                 embedding_dimensions=128,\n",
        "                 cnn_filters=50,\n",
        "                 dnn_units=512,\n",
        "                 model_output_classes=2,\n",
        "                 dropout_rate=0.1,\n",
        "                 training=False,\n",
        "                 name=\"text_model\"):\n",
        "        super(TEXT_MODEL, self).__init__(name=name)\n",
        "        \n",
        "        self.embedding = layers.Embedding(vocabulary_size,\n",
        "                                          embedding_dimensions)\n",
        "        self.cnn_layer1 = layers.Conv1D(filters=cnn_filters,\n",
        "                                        kernel_size=2,\n",
        "                                        padding=\"valid\",\n",
        "                                        activation=\"relu\")\n",
        "        self.cnn_layer2 = layers.Conv1D(filters=cnn_filters,\n",
        "                                        kernel_size=3,\n",
        "                                        padding=\"valid\",\n",
        "                                        activation=\"relu\")\n",
        "        self.cnn_layer3 = layers.Conv1D(filters=cnn_filters,\n",
        "                                        kernel_size=4,\n",
        "                                        padding=\"valid\",\n",
        "                                        activation=\"relu\")\n",
        "        self.pool = layers.GlobalMaxPool1D()\n",
        "        \n",
        "        self.dense_1 = layers.Dense(units=dnn_units, activation=\"relu\")\n",
        "        self.dropout = layers.Dropout(rate=dropout_rate)\n",
        "        if model_output_classes == 2:\n",
        "            self.last_dense = layers.Dense(units=1,\n",
        "                                           activation=\"sigmoid\")\n",
        "        else:\n",
        "            self.last_dense = layers.Dense(units=model_output_classes,\n",
        "                                           activation=\"softmax\")\n",
        "    \n",
        "    def call(self, inputs, training):\n",
        "        l = self.embedding(inputs)\n",
        "        l_1 = self.cnn_layer1(l) \n",
        "        l_1 = self.pool(l_1) \n",
        "        l_2 = self.cnn_layer2(l) \n",
        "        l_2 = self.pool(l_2)\n",
        "        l_3 = self.cnn_layer3(l)\n",
        "        l_3 = self.pool(l_3) \n",
        "        \n",
        "        concatenated = tf.concat([l_1, l_2, l_3], axis=-1) # (batch_size, 3 * cnn_filters)\n",
        "        concatenated = self.dense_1(concatenated)\n",
        "        concatenated = self.dropout(concatenated, training)\n",
        "        model_output = self.last_dense(concatenated)\n",
        "        \n",
        "        return model_output"
      ],
      "execution_count": 0,
      "outputs": []
    },
    {
      "cell_type": "code",
      "metadata": {
        "id": "8SVJ2GwsjHMl",
        "colab_type": "code",
        "colab": {}
      },
      "source": [
        "VOCAB_LENGTH = len(tokenizer.vocab)\n",
        "EMB_DIM = 200\n",
        "CNN_FILTERS = 100\n",
        "DNN_UNITS = 256\n",
        "OUTPUT_CLASSES = 2\n",
        "\n",
        "DROPOUT_RATE = 0.2\n",
        "\n",
        "NB_EPOCHS = 4\n"
      ],
      "execution_count": 0,
      "outputs": []
    },
    {
      "cell_type": "code",
      "metadata": {
        "id": "Rj3Y7BOGjNyh",
        "colab_type": "code",
        "outputId": "1b228ab9-0870-49c0-a961-b1386e4e1c35",
        "colab": {
          "base_uri": "https://localhost:8080/",
          "height": 34
        }
      },
      "source": [
        "text_model = TEXT_MODEL(vocabulary_size=VOCAB_LENGTH,\n",
        "                        embedding_dimensions=EMB_DIM,\n",
        "                        cnn_filters=CNN_FILTERS,\n",
        "                        dnn_units=DNN_UNITS,\n",
        "                        model_output_classes=OUTPUT_CLASSES,\n",
        "                        dropout_rate=DROPOUT_RATE)\n",
        "text_model.save_weights(\"/content/model.h5\")\n",
        "print(\"Saved model to disk\")"
      ],
      "execution_count": 106,
      "outputs": [
        {
          "output_type": "stream",
          "text": [
            "Saved model to disk\n"
          ],
          "name": "stdout"
        }
      ]
    },
    {
      "cell_type": "code",
      "metadata": {
        "id": "L7D4WJqMjQQU",
        "colab_type": "code",
        "colab": {}
      },
      "source": [
        "if OUTPUT_CLASSES == 2:\n",
        "    text_model.compile(loss=\"binary_crossentropy\",\n",
        "                       optimizer=\"adam\",\n",
        "                       metrics=[\"accuracy\"])\n",
        "else:\n",
        "    text_model.compile(loss=\"sparse_categorical_crossentropy\",\n",
        "                       optimizer=\"adam\",\n",
        "                       metrics=[\"sparse_categorical_accuracy\"])"
      ],
      "execution_count": 0,
      "outputs": []
    },
    {
      "cell_type": "code",
      "metadata": {
        "id": "vSXz4YTqjTPm",
        "colab_type": "code",
        "outputId": "c2affadd-2162-4f7a-f556-da1e103c4d35",
        "colab": {
          "base_uri": "https://localhost:8080/",
          "height": 170
        }
      },
      "source": [
        "text_model.fit(train_data, epochs=NB_EPOCHS)"
      ],
      "execution_count": 108,
      "outputs": [
        {
          "output_type": "stream",
          "text": [
            "Epoch 1/4\n",
            "224/224 [==============================] - 26s 117ms/step - loss: 0.3118 - accuracy: 0.8588\n",
            "Epoch 2/4\n",
            "224/224 [==============================] - 26s 118ms/step - loss: 0.1555 - accuracy: 0.9393\n",
            "Epoch 3/4\n",
            "224/224 [==============================] - 26s 118ms/step - loss: 0.0731 - accuracy: 0.9769\n",
            "Epoch 4/4\n",
            "224/224 [==============================] - 26s 117ms/step - loss: 0.0325 - accuracy: 0.9920\n"
          ],
          "name": "stdout"
        },
        {
          "output_type": "execute_result",
          "data": {
            "text/plain": [
              "<tensorflow.python.keras.callbacks.History at 0x7fe7fe5d9ac8>"
            ]
          },
          "metadata": {
            "tags": []
          },
          "execution_count": 108
        }
      ]
    },
    {
      "cell_type": "code",
      "metadata": {
        "id": "zsh5e04kUDGZ",
        "colab_type": "code",
        "outputId": "d3e6d5dc-935e-48cd-807c-3ae445ef263f",
        "colab": {
          "base_uri": "https://localhost:8080/",
          "height": 425
        }
      },
      "source": [
        "text_model.summary()"
      ],
      "execution_count": 109,
      "outputs": [
        {
          "output_type": "stream",
          "text": [
            "Model: \"text_model\"\n",
            "_________________________________________________________________\n",
            "Layer (type)                 Output Shape              Param #   \n",
            "=================================================================\n",
            "embedding_4 (Embedding)      multiple                  6104400   \n",
            "_________________________________________________________________\n",
            "conv1d_12 (Conv1D)           multiple                  40100     \n",
            "_________________________________________________________________\n",
            "conv1d_13 (Conv1D)           multiple                  60100     \n",
            "_________________________________________________________________\n",
            "conv1d_14 (Conv1D)           multiple                  80100     \n",
            "_________________________________________________________________\n",
            "global_max_pooling1d_4 (Glob multiple                  0         \n",
            "_________________________________________________________________\n",
            "dense_8 (Dense)              multiple                  77056     \n",
            "_________________________________________________________________\n",
            "dropout_4 (Dropout)          multiple                  0         \n",
            "_________________________________________________________________\n",
            "dense_9 (Dense)              multiple                  257       \n",
            "=================================================================\n",
            "Total params: 6,362,013\n",
            "Trainable params: 6,362,013\n",
            "Non-trainable params: 0\n",
            "_________________________________________________________________\n"
          ],
          "name": "stdout"
        }
      ]
    },
    {
      "cell_type": "code",
      "metadata": {
        "id": "L0laD6i2jgl4",
        "colab_type": "code",
        "outputId": "7ff95436-94b2-4d0c-e0f9-0646b727da3b",
        "colab": {
          "base_uri": "https://localhost:8080/",
          "height": 34
        }
      },
      "source": [
        "results = text_model.predict(test_data)\n",
        "test_data\n",
        "# print(results)"
      ],
      "execution_count": 110,
      "outputs": [
        {
          "output_type": "execute_result",
          "data": {
            "text/plain": [
              "<TakeDataset shapes: ((None, None), (None,)), types: (tf.int32, tf.int32)>"
            ]
          },
          "metadata": {
            "tags": []
          },
          "execution_count": 110
        }
      ]
    },
    {
      "cell_type": "code",
      "metadata": {
        "id": "_XUJk4UMDRoU",
        "colab_type": "code",
        "colab": {}
      },
      "source": [
        "def preprocess_text(sen):\n",
        "    # Removing html tags\n",
        "    sentence = remove_tags(sen)\n",
        "\n",
        "    # Remove punctuations and numbers\n",
        "    sentence = re.sub('[^a-zA-Z]', ' ', sentence)\n",
        "\n",
        "    # Single character removal\n",
        "    sentence = re.sub(r\"\\s+[a-zA-Z]\\s+\", ' ', sentence)\n",
        "\n",
        "    # Removing multiple spaces\n",
        "    sentence = re.sub(r'\\s+', ' ', sentence)\n",
        "\n",
        "    return sentence\n",
        "\n",
        "TAG_RE = re.compile(r'<[^>]+>')\n",
        "\n",
        "def remove_tags(text):\n",
        "    return TAG_RE.sub('', text)\n",
        "\n",
        "\n",
        "reviews = []\n",
        "sentences = list(test_data1['tweet'])\n",
        "for sen in sentences:\n",
        "    reviews.append(preprocess_text(sen))\n",
        "\n",
        "\n",
        "clean_data = pd.DataFrame(reviews,columns=['tweet'])\n",
        "clean_data['label'] = test_data1.label\n"
      ],
      "execution_count": 0,
      "outputs": []
    },
    {
      "cell_type": "code",
      "metadata": {
        "id": "llZsrHgkseHe",
        "colab_type": "code",
        "colab": {
          "base_uri": "https://localhost:8080/",
          "height": 204
        },
        "outputId": "9b0dc931-b822-49d7-c79e-a8666eeaefa0"
      },
      "source": [
        "clean_data.head()"
      ],
      "execution_count": 112,
      "outputs": [
        {
          "output_type": "execute_result",
          "data": {
            "text/html": [
              "<div>\n",
              "<style scoped>\n",
              "    .dataframe tbody tr th:only-of-type {\n",
              "        vertical-align: middle;\n",
              "    }\n",
              "\n",
              "    .dataframe tbody tr th {\n",
              "        vertical-align: top;\n",
              "    }\n",
              "\n",
              "    .dataframe thead th {\n",
              "        text-align: right;\n",
              "    }\n",
              "</style>\n",
              "<table border=\"1\" class=\"dataframe\">\n",
              "  <thead>\n",
              "    <tr style=\"text-align: right;\">\n",
              "      <th></th>\n",
              "      <th>tweet</th>\n",
              "      <th>label</th>\n",
              "    </tr>\n",
              "  </thead>\n",
              "  <tbody>\n",
              "    <tr>\n",
              "      <th>0</th>\n",
              "      <td>I hate the new iphone upgrade Won let me download apps ugh apple sucks</td>\n",
              "      <td>1</td>\n",
              "    </tr>\n",
              "    <tr>\n",
              "      <th>1</th>\n",
              "      <td>currently shitting my fucking pants apple iMac cashmoney raddest swagswagswag http instagr am UU...</td>\n",
              "      <td>1</td>\n",
              "    </tr>\n",
              "    <tr>\n",
              "      <th>2</th>\n",
              "      <td>I like to puts some CD ROMS on my iPad is that possible Yes but wouldn that block the screen</td>\n",
              "      <td>1</td>\n",
              "    </tr>\n",
              "    <tr>\n",
              "      <th>3</th>\n",
              "      <td>My ipod is officially dead lost all my pictures and videos from the and sos concert and from Vet...</td>\n",
              "      <td>1</td>\n",
              "    </tr>\n",
              "    <tr>\n",
              "      <th>4</th>\n",
              "      <td>Been fighting iTunes all night only want the music paid for</td>\n",
              "      <td>1</td>\n",
              "    </tr>\n",
              "  </tbody>\n",
              "</table>\n",
              "</div>"
            ],
            "text/plain": [
              "                                                                                                 tweet label\n",
              "0                               I hate the new iphone upgrade Won let me download apps ugh apple sucks     1\n",
              "1  currently shitting my fucking pants apple iMac cashmoney raddest swagswagswag http instagr am UU...     1\n",
              "2        I like to puts some CD ROMS on my iPad is that possible Yes but wouldn that block the screen      1\n",
              "3  My ipod is officially dead lost all my pictures and videos from the and sos concert and from Vet...     1\n",
              "4                                          Been fighting iTunes all night only want the music paid for     1"
            ]
          },
          "metadata": {
            "tags": []
          },
          "execution_count": 112
        }
      ]
    },
    {
      "cell_type": "code",
      "metadata": {
        "id": "dnx1QWkzv9Po",
        "colab_type": "code",
        "colab": {}
      },
      "source": [
        ""
      ],
      "execution_count": 0,
      "outputs": []
    },
    {
      "cell_type": "code",
      "metadata": {
        "id": "wFOCOgEGmzAR",
        "colab_type": "code",
        "colab": {}
      },
      "source": [
        "def tokenize_reviews(text_reviews):\n",
        "    return tokenizer.convert_tokens_to_ids(tokenizer.tokenize(text_reviews))"
      ],
      "execution_count": 0,
      "outputs": []
    },
    {
      "cell_type": "code",
      "metadata": {
        "id": "3lpdmKgInGdb",
        "colab_type": "code",
        "colab": {}
      },
      "source": [
        "tokenized_reviews = [tokenize_reviews(review) for review in reviews]"
      ],
      "execution_count": 0,
      "outputs": []
    },
    {
      "cell_type": "code",
      "metadata": {
        "id": "5W8gfZNGnKNM",
        "colab_type": "code",
        "colab": {
          "base_uri": "https://localhost:8080/",
          "height": 544
        },
        "outputId": "3d6891a7-2e3a-48b2-cb56-655de2e60e91"
      },
      "source": [
        "tokenized_reviews[1]"
      ],
      "execution_count": 115,
      "outputs": [
        {
          "output_type": "execute_result",
          "data": {
            "text/plain": [
              "[2747,\n",
              " 4485,\n",
              " 3436,\n",
              " 2026,\n",
              " 8239,\n",
              " 6471,\n",
              " 6207,\n",
              " 10047,\n",
              " 6305,\n",
              " 5356,\n",
              " 8202,\n",
              " 3240,\n",
              " 10958,\n",
              " 14141,\n",
              " 4355,\n",
              " 25430,\n",
              " 26454,\n",
              " 4213,\n",
              " 5620,\n",
              " 4213,\n",
              " 2290,\n",
              " 8299,\n",
              " 16021,\n",
              " 15900,\n",
              " 2099,\n",
              " 2572,\n",
              " 1057,\n",
              " 27020,\n",
              " 12170,\n",
              " 2497,\n",
              " 6844]"
            ]
          },
          "metadata": {
            "tags": []
          },
          "execution_count": 115
        }
      ]
    },
    {
      "cell_type": "code",
      "metadata": {
        "id": "CNGJzHAVnP40",
        "colab_type": "code",
        "colab": {
          "base_uri": "https://localhost:8080/",
          "height": 1000
        },
        "outputId": "8983fb89-88dc-42c4-8823-c56d633d4e91"
      },
      "source": [
        "reviews_with_len = [[review, y[i], len(review)]\n",
        "                 for i, review in enumerate(tokenized_reviews)]\n",
        "\n",
        "sorted_reviews_labels = [(review_lab[0], review_lab[1]) for review_lab in reviews_with_len]\n",
        "\n",
        "\n",
        "sorted_reviews_labels[1:6]"
      ],
      "execution_count": 116,
      "outputs": [
        {
          "output_type": "execute_result",
          "data": {
            "text/plain": [
              "[([2747,\n",
              "   4485,\n",
              "   3436,\n",
              "   2026,\n",
              "   8239,\n",
              "   6471,\n",
              "   6207,\n",
              "   10047,\n",
              "   6305,\n",
              "   5356,\n",
              "   8202,\n",
              "   3240,\n",
              "   10958,\n",
              "   14141,\n",
              "   4355,\n",
              "   25430,\n",
              "   26454,\n",
              "   4213,\n",
              "   5620,\n",
              "   4213,\n",
              "   2290,\n",
              "   8299,\n",
              "   16021,\n",
              "   15900,\n",
              "   2099,\n",
              "   2572,\n",
              "   1057,\n",
              "   27020,\n",
              "   12170,\n",
              "   2497,\n",
              "   6844],\n",
              "  0),\n",
              " ([1045,\n",
              "   2066,\n",
              "   2000,\n",
              "   8509,\n",
              "   2070,\n",
              "   3729,\n",
              "   17083,\n",
              "   2015,\n",
              "   2006,\n",
              "   2026,\n",
              "   25249,\n",
              "   2003,\n",
              "   2008,\n",
              "   2825,\n",
              "   2748,\n",
              "   2021,\n",
              "   2876,\n",
              "   2008,\n",
              "   3796,\n",
              "   1996,\n",
              "   3898],\n",
              "  0),\n",
              " ([2026,\n",
              "   26322,\n",
              "   2003,\n",
              "   3985,\n",
              "   2757,\n",
              "   2439,\n",
              "   2035,\n",
              "   2026,\n",
              "   4620,\n",
              "   1998,\n",
              "   6876,\n",
              "   2013,\n",
              "   1996,\n",
              "   1998,\n",
              "   2061,\n",
              "   2015,\n",
              "   4164,\n",
              "   1998,\n",
              "   2013,\n",
              "   29525,\n",
              "   3409,\n",
              "   22650,\n",
              "   15509,\n",
              "   20040],\n",
              "  0),\n",
              " ([2042, 3554, 11943, 2035, 2305, 2069, 2215, 1996, 2189, 3825, 2005], 1),\n",
              " ([16360,\n",
              "   14122,\n",
              "   2131,\n",
              "   3676,\n",
              "   8126,\n",
              "   2078,\n",
              "   19699,\n",
              "   6340,\n",
              "   2007,\n",
              "   16360,\n",
              "   28696,\n",
              "   9397,\n",
              "   2000,\n",
              "   14970,\n",
              "   2057,\n",
              "   2097,\n",
              "   2031,\n",
              "   2256,\n",
              "   6207,\n",
              "   15477,\n",
              "   16770,\n",
              "   7479,\n",
              "   16021,\n",
              "   23091,\n",
              "   4012,\n",
              "   23923,\n",
              "   7929,\n",
              "   25852,\n",
              "   9333,\n",
              "   2015],\n",
              "  1)]"
            ]
          },
          "metadata": {
            "tags": []
          },
          "execution_count": 116
        }
      ]
    },
    {
      "cell_type": "code",
      "metadata": {
        "id": "3AvmM2R9nhbj",
        "colab_type": "code",
        "colab": {}
      },
      "source": [
        "processed_dataset = tf.data.Dataset.from_generator(lambda: sorted_reviews_labels, output_types=(tf.int32, tf.int32))"
      ],
      "execution_count": 0,
      "outputs": []
    },
    {
      "cell_type": "code",
      "metadata": {
        "id": "v4M0Re2znukC",
        "colab_type": "code",
        "colab": {
          "base_uri": "https://localhost:8080/",
          "height": 34
        },
        "outputId": "568f1ab3-ce90-4a89-a4a0-5520ee66d59e"
      },
      "source": [
        "processed_dataset"
      ],
      "execution_count": 118,
      "outputs": [
        {
          "output_type": "execute_result",
          "data": {
            "text/plain": [
              "<FlatMapDataset shapes: (<unknown>, <unknown>), types: (tf.int32, tf.int32)>"
            ]
          },
          "metadata": {
            "tags": []
          },
          "execution_count": 118
        }
      ]
    },
    {
      "cell_type": "code",
      "metadata": {
        "id": "8kVn91mvn6xZ",
        "colab_type": "code",
        "colab": {}
      },
      "source": [
        "BATCH_SIZE = 32\n",
        "batched_dataset = processed_dataset.padded_batch(BATCH_SIZE, padded_shapes=((None, ), ()))"
      ],
      "execution_count": 0,
      "outputs": []
    },
    {
      "cell_type": "code",
      "metadata": {
        "id": "5y92k4Vkn-pW",
        "colab_type": "code",
        "colab": {
          "base_uri": "https://localhost:8080/",
          "height": 204
        },
        "outputId": "cad890eb-3184-41d0-e58f-f2bf5689542d"
      },
      "source": [
        "next(iter(batched_dataset))"
      ],
      "execution_count": 120,
      "outputs": [
        {
          "output_type": "execute_result",
          "data": {
            "text/plain": [
              "(<tf.Tensor: shape=(32, 62), dtype=int32, numpy=\n",
              " array([[1045, 5223, 1996, ...,    0,    0,    0],\n",
              "        [2747, 4485, 3436, ...,    0,    0,    0],\n",
              "        [1045, 2066, 2000, ...,    0,    0,    0],\n",
              "        ...,\n",
              "        [6823, 3238, 2074, ...,    0,    0,    0],\n",
              "        [1045, 2123, 3342, ...,    0,    0,    0],\n",
              "        [2097, 3889, 5558, ...,    0,    0,    0]], dtype=int32)>,\n",
              " <tf.Tensor: shape=(32,), dtype=int32, numpy=\n",
              " array([0, 0, 0, 0, 1, 1, 0, 0, 0, 0, 1, 1, 1, 0, 1, 0, 0, 0, 1, 1, 0, 0,\n",
              "        1, 1, 0, 0, 1, 1, 0, 0, 0, 0], dtype=int32)>)"
            ]
          },
          "metadata": {
            "tags": []
          },
          "execution_count": 120
        }
      ]
    },
    {
      "cell_type": "code",
      "metadata": {
        "id": "Zx2Yy7mDqMwi",
        "colab_type": "code",
        "colab": {}
      },
      "source": [
        "TOTAL_BATCHES = math.ceil(len(sorted_reviews_labels) / BATCH_SIZE)"
      ],
      "execution_count": 0,
      "outputs": []
    },
    {
      "cell_type": "code",
      "metadata": {
        "id": "4u-q5kOTrmnm",
        "colab_type": "code",
        "colab": {}
      },
      "source": [
        "test_data1 = batched_dataset.take(TOTAL_BATCHES)"
      ],
      "execution_count": 0,
      "outputs": []
    },
    {
      "cell_type": "code",
      "metadata": {
        "id": "Cqf2kV5frvuz",
        "colab_type": "code",
        "colab": {
          "base_uri": "https://localhost:8080/",
          "height": 136
        },
        "outputId": "035b64a0-4972-4692-e5d2-83afa243fea1"
      },
      "source": [
        "results = text_model.predict(test_data1)\n",
        "results"
      ],
      "execution_count": 123,
      "outputs": [
        {
          "output_type": "execute_result",
          "data": {
            "text/plain": [
              "array([[9.9634618e-01],\n",
              "       [9.7315490e-01],\n",
              "       [9.9901271e-01],\n",
              "       ...,\n",
              "       [9.8292041e-01],\n",
              "       [9.7277427e-01],\n",
              "       [4.5615295e-08]], dtype=float32)"
            ]
          },
          "metadata": {
            "tags": []
          },
          "execution_count": 123
        }
      ]
    },
    {
      "cell_type": "code",
      "metadata": {
        "id": "tMig3K13r2-x",
        "colab_type": "code",
        "colab": {
          "base_uri": "https://localhost:8080/",
          "height": 34
        },
        "outputId": "2014ec04-c6fd-4889-c3ec-4275d5a4fd6d"
      },
      "source": [
        "type(results)"
      ],
      "execution_count": 125,
      "outputs": [
        {
          "output_type": "execute_result",
          "data": {
            "text/plain": [
              "numpy.ndarray"
            ]
          },
          "metadata": {
            "tags": []
          },
          "execution_count": 125
        }
      ]
    },
    {
      "cell_type": "code",
      "metadata": {
        "id": "ZhGoZsuEsJmC",
        "colab_type": "code",
        "colab": {}
      },
      "source": [
        "A = results.astype(int)"
      ],
      "execution_count": 0,
      "outputs": []
    },
    {
      "cell_type": "code",
      "metadata": {
        "id": "1kTLlqEdsdj_",
        "colab_type": "code",
        "colab": {
          "base_uri": "https://localhost:8080/",
          "height": 136
        },
        "outputId": "02eed22e-030e-4ffe-a462-fa763b3d349e"
      },
      "source": [
        "A"
      ],
      "execution_count": 140,
      "outputs": [
        {
          "output_type": "execute_result",
          "data": {
            "text/plain": [
              "array([[0],\n",
              "       [0],\n",
              "       [0],\n",
              "       ...,\n",
              "       [0],\n",
              "       [0],\n",
              "       [0]])"
            ]
          },
          "metadata": {
            "tags": []
          },
          "execution_count": 140
        }
      ]
    },
    {
      "cell_type": "code",
      "metadata": {
        "id": "ai51XaZXssq7",
        "colab_type": "code",
        "colab": {}
      },
      "source": [
        "np.savetxt(\"foo.csv\", A, delimiter=\",\")"
      ],
      "execution_count": 0,
      "outputs": []
    },
    {
      "cell_type": "code",
      "metadata": {
        "id": "vR9k-OX0uFCX",
        "colab_type": "code",
        "colab": {}
      },
      "source": [
        ""
      ],
      "execution_count": 0,
      "outputs": []
    }
  ]
}